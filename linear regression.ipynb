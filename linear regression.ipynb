{
 "cells": [
  {
   "cell_type": "markdown",
   "metadata": {},
   "source": [
    "## Linear Regression using Keras"
   ]
  },
  {
   "cell_type": "markdown",
   "metadata": {},
   "source": [
    "**We are using keras sequential for creating a linear regression model.**\n",
    "**<br>For this, we are using keras.sequential for instantiating the model.**\n",
    "**<br>Since Linear Regression comprises of a single variable, we used only one layer.**"
   ]
  },
  {
   "cell_type": "code",
   "execution_count": null,
   "metadata": {},
   "outputs": [],
   "source": [
    "#importing the modules\n",
    "\n",
    "import keras\n",
    "import numpy as np\n",
    "import pandas as pd\n",
    "import matplotlib.pyplot as plt"
   ]
  },
  {
   "cell_type": "code",
   "execution_count": 5,
   "metadata": {},
   "outputs": [
    {
     "data": {
      "text/html": [
       "<div>\n",
       "<style scoped>\n",
       "    .dataframe tbody tr th:only-of-type {\n",
       "        vertical-align: middle;\n",
       "    }\n",
       "\n",
       "    .dataframe tbody tr th {\n",
       "        vertical-align: top;\n",
       "    }\n",
       "\n",
       "    .dataframe thead th {\n",
       "        text-align: right;\n",
       "    }\n",
       "</style>\n",
       "<table border=\"1\" class=\"dataframe\">\n",
       "  <thead>\n",
       "    <tr style=\"text-align: right;\">\n",
       "      <th></th>\n",
       "      <th>Hours</th>\n",
       "      <th>Scores</th>\n",
       "    </tr>\n",
       "  </thead>\n",
       "  <tbody>\n",
       "    <tr>\n",
       "      <th>0</th>\n",
       "      <td>2.5</td>\n",
       "      <td>21</td>\n",
       "    </tr>\n",
       "    <tr>\n",
       "      <th>1</th>\n",
       "      <td>5.1</td>\n",
       "      <td>47</td>\n",
       "    </tr>\n",
       "    <tr>\n",
       "      <th>2</th>\n",
       "      <td>3.2</td>\n",
       "      <td>27</td>\n",
       "    </tr>\n",
       "    <tr>\n",
       "      <th>3</th>\n",
       "      <td>8.5</td>\n",
       "      <td>75</td>\n",
       "    </tr>\n",
       "    <tr>\n",
       "      <th>4</th>\n",
       "      <td>3.5</td>\n",
       "      <td>30</td>\n",
       "    </tr>\n",
       "    <tr>\n",
       "      <th>5</th>\n",
       "      <td>1.5</td>\n",
       "      <td>20</td>\n",
       "    </tr>\n",
       "    <tr>\n",
       "      <th>6</th>\n",
       "      <td>9.2</td>\n",
       "      <td>88</td>\n",
       "    </tr>\n",
       "    <tr>\n",
       "      <th>7</th>\n",
       "      <td>5.5</td>\n",
       "      <td>60</td>\n",
       "    </tr>\n",
       "    <tr>\n",
       "      <th>8</th>\n",
       "      <td>8.3</td>\n",
       "      <td>81</td>\n",
       "    </tr>\n",
       "    <tr>\n",
       "      <th>9</th>\n",
       "      <td>2.7</td>\n",
       "      <td>25</td>\n",
       "    </tr>\n",
       "    <tr>\n",
       "      <th>10</th>\n",
       "      <td>7.7</td>\n",
       "      <td>85</td>\n",
       "    </tr>\n",
       "    <tr>\n",
       "      <th>11</th>\n",
       "      <td>5.9</td>\n",
       "      <td>62</td>\n",
       "    </tr>\n",
       "    <tr>\n",
       "      <th>12</th>\n",
       "      <td>4.5</td>\n",
       "      <td>41</td>\n",
       "    </tr>\n",
       "    <tr>\n",
       "      <th>13</th>\n",
       "      <td>3.3</td>\n",
       "      <td>42</td>\n",
       "    </tr>\n",
       "    <tr>\n",
       "      <th>14</th>\n",
       "      <td>1.1</td>\n",
       "      <td>17</td>\n",
       "    </tr>\n",
       "    <tr>\n",
       "      <th>15</th>\n",
       "      <td>8.9</td>\n",
       "      <td>95</td>\n",
       "    </tr>\n",
       "    <tr>\n",
       "      <th>16</th>\n",
       "      <td>2.5</td>\n",
       "      <td>30</td>\n",
       "    </tr>\n",
       "    <tr>\n",
       "      <th>17</th>\n",
       "      <td>1.9</td>\n",
       "      <td>24</td>\n",
       "    </tr>\n",
       "    <tr>\n",
       "      <th>18</th>\n",
       "      <td>6.1</td>\n",
       "      <td>67</td>\n",
       "    </tr>\n",
       "    <tr>\n",
       "      <th>19</th>\n",
       "      <td>7.4</td>\n",
       "      <td>69</td>\n",
       "    </tr>\n",
       "    <tr>\n",
       "      <th>20</th>\n",
       "      <td>2.7</td>\n",
       "      <td>30</td>\n",
       "    </tr>\n",
       "    <tr>\n",
       "      <th>21</th>\n",
       "      <td>4.8</td>\n",
       "      <td>54</td>\n",
       "    </tr>\n",
       "    <tr>\n",
       "      <th>22</th>\n",
       "      <td>3.8</td>\n",
       "      <td>35</td>\n",
       "    </tr>\n",
       "    <tr>\n",
       "      <th>23</th>\n",
       "      <td>6.9</td>\n",
       "      <td>76</td>\n",
       "    </tr>\n",
       "    <tr>\n",
       "      <th>24</th>\n",
       "      <td>7.8</td>\n",
       "      <td>86</td>\n",
       "    </tr>\n",
       "  </tbody>\n",
       "</table>\n",
       "</div>"
      ],
      "text/plain": [
       "    Hours  Scores\n",
       "0     2.5      21\n",
       "1     5.1      47\n",
       "2     3.2      27\n",
       "3     8.5      75\n",
       "4     3.5      30\n",
       "5     1.5      20\n",
       "6     9.2      88\n",
       "7     5.5      60\n",
       "8     8.3      81\n",
       "9     2.7      25\n",
       "10    7.7      85\n",
       "11    5.9      62\n",
       "12    4.5      41\n",
       "13    3.3      42\n",
       "14    1.1      17\n",
       "15    8.9      95\n",
       "16    2.5      30\n",
       "17    1.9      24\n",
       "18    6.1      67\n",
       "19    7.4      69\n",
       "20    2.7      30\n",
       "21    4.8      54\n",
       "22    3.8      35\n",
       "23    6.9      76\n",
       "24    7.8      86"
      ]
     },
     "execution_count": 5,
     "metadata": {},
     "output_type": "execute_result"
    }
   ],
   "source": [
    "#reading csv (comma separated values) files\n",
    "\n",
    "df = pd.read_csv(\"https://raw.githubusercontent.com/AdiPersonalWorks/Random/master/student_scores%20-%20student_scores.csv\")\n",
    "df"
   ]
  },
  {
   "cell_type": "code",
   "execution_count": 7,
   "metadata": {},
   "outputs": [],
   "source": [
    "#converting values into numpy arrays\n",
    "\n",
    "hours = df[['Hours']].values\n",
    "score = df[['Scores']].values"
   ]
  },
  {
   "cell_type": "code",
   "execution_count": 9,
   "metadata": {},
   "outputs": [
    {
     "name": "stdout",
     "output_type": "stream",
     "text": [
      "Epoch 1/30\n",
      "2/2 [==============================] - 1s 2ms/step - loss: 4194.0840\n",
      "Epoch 2/30\n",
      "2/2 [==============================] - 0s 2ms/step - loss: 2412.3648\n",
      "Epoch 3/30\n",
      "2/2 [==============================] - 0s 2ms/step - loss: 1488.4587\n",
      "Epoch 4/30\n",
      "2/2 [==============================] - 0s 2ms/step - loss: 743.7781\n",
      "Epoch 5/30\n",
      "2/2 [==============================] - 0s 2ms/step - loss: 252.2734\n",
      "Epoch 6/30\n",
      "2/2 [==============================] - 0s 2ms/step - loss: 59.5929\n",
      "Epoch 7/30\n",
      "2/2 [==============================] - 0s 2ms/step - loss: 58.2379\n",
      "Epoch 8/30\n",
      "2/2 [==============================] - 0s 3ms/step - loss: 148.9217\n",
      "Epoch 9/30\n",
      "2/2 [==============================] - 0s 2ms/step - loss: 268.2472\n",
      "Epoch 10/30\n",
      "2/2 [==============================] - 0s 2ms/step - loss: 345.8247\n",
      "Epoch 11/30\n",
      "2/2 [==============================] - 0s 3ms/step - loss: 357.4686\n",
      "Epoch 12/30\n",
      "2/2 [==============================] - 0s 2ms/step - loss: 321.5954\n",
      "Epoch 13/30\n",
      "2/2 [==============================] - 0s 2ms/step - loss: 255.9121\n",
      "Epoch 14/30\n",
      "2/2 [==============================] - 0s 3ms/step - loss: 165.2419\n",
      "Epoch 15/30\n",
      "2/2 [==============================] - 0s 2ms/step - loss: 102.6017\n",
      "Epoch 16/30\n",
      "2/2 [==============================] - 0s 2ms/step - loss: 56.9363\n",
      "Epoch 17/30\n",
      "2/2 [==============================] - 0s 2ms/step - loss: 36.8287\n",
      "Epoch 18/30\n",
      "2/2 [==============================] - 0s 2ms/step - loss: 39.9963\n",
      "Epoch 19/30\n",
      "2/2 [==============================] - 0s 3ms/step - loss: 57.9912\n",
      "Epoch 20/30\n",
      "2/2 [==============================] - 0s 3ms/step - loss: 71.5909\n",
      "Epoch 21/30\n",
      "2/2 [==============================] - 0s 6ms/step - loss: 84.7877\n",
      "Epoch 22/30\n",
      "2/2 [==============================] - 0s 3ms/step - loss: 79.9186\n",
      "Epoch 23/30\n",
      "2/2 [==============================] - 0s 4ms/step - loss: 68.2980\n",
      "Epoch 24/30\n",
      "2/2 [==============================] - 0s 3ms/step - loss: 56.7256\n",
      "Epoch 25/30\n",
      "2/2 [==============================] - 0s 4ms/step - loss: 43.6887\n",
      "Epoch 26/30\n",
      "2/2 [==============================] - 0s 3ms/step - loss: 35.3476\n",
      "Epoch 27/30\n",
      "2/2 [==============================] - 0s 3ms/step - loss: 36.2772\n",
      "Epoch 28/30\n",
      "2/2 [==============================] - 0s 3ms/step - loss: 37.1100\n",
      "Epoch 29/30\n",
      "2/2 [==============================] - 0s 2ms/step - loss: 39.3712\n",
      "Epoch 30/30\n",
      "2/2 [==============================] - 0s 3ms/step - loss: 42.0445\n"
     ]
    },
    {
     "data": {
      "text/plain": [
       "<tensorflow.python.keras.callbacks.History at 0x24a8f8989d0>"
      ]
     },
     "execution_count": 9,
     "metadata": {},
     "output_type": "execute_result"
    }
   ],
   "source": [
    "#making sequential model\n",
    "model = keras.Sequential() \n",
    "#adding a layer, input_shape is 1 because we are passing only 1 column(x axis)\n",
    "model.add(keras.layers.Dense(1,input_shape=(1,)))\n",
    "#Adam optimizer is the best optimizer to reduce the losses,lr=learning rate max is one, keep it as low as possible\n",
    "model.compile(keras.optimizers.Adam(lr=1),\"mean_squared_error\")\n",
    "#batches means no of times it gets trained\n",
    "model.fit(hours,score,epochs=30,batch_size=20) "
   ]
  },
  {
   "cell_type": "code",
   "execution_count": 10,
   "metadata": {},
   "outputs": [
    {
     "data": {
      "text/plain": [
       "<AxesSubplot:xlabel='Hours', ylabel='Scores'>"
      ]
     },
     "execution_count": 10,
     "metadata": {},
     "output_type": "execute_result"
    },
    {
     "data": {
      "image/png": "[encoded data removed]",
      "text/plain": [
       "<Figure size 432x288 with 1 Axes>"
      ]
     },
     "metadata": {
      "needs_background": "light"
     },
     "output_type": "display_data"
    }
   ],
   "source": [
    "#plotting a scatter plot\n",
    "df.plot(kind=\"scatter\",x=\"Hours\",y=\"Scores\")"
   ]
  },
  {
   "cell_type": "code",
   "execution_count": 12,
   "metadata": {},
   "outputs": [
    {
     "data": {
      "text/plain": [
       "[<matplotlib.lines.Line2D at 0x24a96d75c10>]"
      ]
     },
     "execution_count": 12,
     "metadata": {},
     "output_type": "execute_result"
    },
    {
     "data": {
      "image/png": "[encoded data removed]",
      "text/plain": [
       "<Figure size 432x288 with 1 Axes>"
      ]
     },
     "metadata": {
      "needs_background": "light"
     },
     "output_type": "display_data"
    }
   ],
   "source": [
    "#drawing a line on the scatter plot\n",
    "df.plot(kind=\"scatter\",x=\"Hours\",y=\"Scores\")\n",
    "y_predict = model.predict(hours)\n",
    "plt.plot(hours,y_predict,color=\"red\")"
   ]
  },
  {
   "cell_type": "code",
   "execution_count": 13,
   "metadata": {},
   "outputs": [
    {
     "name": "stdout",
     "output_type": "stream",
     "text": [
      "[[94.386604]]\n"
     ]
    }
   ],
   "source": [
    "#finding the predicted score if a student studies for 9.25 hours per day\n",
    "my_prediction = 9.25\n",
    "print(model.predict([my_prediction]))"
   ]
  },
  {
   "cell_type": "code",
   "execution_count": null,
   "metadata": {},
   "outputs": [],
   "source": []
  }
 ],
 "metadata": {
  "kernelspec": {
   "display_name": "Python 3",
   "language": "python",
   "name": "python3"
  },
  "language_info": {
   "codemirror_mode": {
    "name": "ipython",
    "version": 3
   },
   "file_extension": ".py",
   "mimetype": "text/x-python",
   "name": "python",
   "nbconvert_exporter": "python",
   "pygments_lexer": "ipython3",
   "version": "3.8.3"
  }
 },
 "nbformat": 4,
 "nbformat_minor": 4
}
